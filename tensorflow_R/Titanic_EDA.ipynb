{
  "nbformat": 4,
  "nbformat_minor": 0,
  "metadata": {
    "colab": {
      "name": "Titanic_EDA.ipynb",
      "provenance": [],
      "authorship_tag": "ABX9TyPjfi/piIQmSEBuwhH39SKe",
      "include_colab_link": true
    },
    "kernelspec": {
      "name": "ir",
      "display_name": "R"
    },
    "language_info": {
      "name": "R"
    },
    "accelerator": "GPU"
  },
  "cells": [
    {
      "cell_type": "markdown",
      "metadata": {
        "id": "view-in-github",
        "colab_type": "text"
      },
      "source": [
        "<a href=\"https://colab.research.google.com/github/innosoft21/TensorFlow-Certificate/blob/master/tensorflow_R/Titanic_EDA.ipynb\" target=\"_parent\"><img src=\"https://colab.research.google.com/assets/colab-badge.svg\" alt=\"Open In Colab\"/></a>"
      ]
    },
    {
      "cell_type": "markdown",
      "metadata": {
        "id": "-56dUT-iTZbW"
      },
      "source": [
        "titanic3.csv 탐색적 자료 분석(EDA) / 데이터 시각화\n"
      ]
    },
    {
      "cell_type": "code",
      "metadata": {
        "id": "XBbwkAgkkkUL"
      },
      "source": [
        "#전처리 후 EDA 진행\n",
        "titanic <- read.csv(\"titanic3.csv\")  #데이터 불러오기\n",
        "titanic <- titanic[ ,!names(titanic) %in% c(\"boat\",\"body\",\"home.dest\") ] #불필요한 변수 제거\n",
        "\n",
        "titanic$pclass <- as.factor(titanic$pclass) #데이터 타입 변환\n",
        "titanic$sex <- as.factor(titanic$sex)\n",
        "titanic$embarked <- as.factor(titanic$embarked)\n",
        "titanic$survived <- factor(titanic$survived, levels=c(0,1), labels=c(\"dead\",\"survived\"))\n",
        "levels(titanic$embarked)[1] <- NA #빈칸 NA로 대치\n",
        "\n",
        "#install.packages(dlookr) #패키지 설치\n",
        "library(dlookr) #패키지 로딩\n",
        "diagnose(titanic) #결측치 확인\n",
        "titanic$age <- imputate_na(titanic, age, method = \"mean\") #결측치 대치\n",
        "\n",
        "titanic <- titanic[complete.cases(titanic[ ,9]), ] #결측치 제거\n",
        "titanic <- titanic[complete.cases(titanic[ ,11]), ] #결측치 제거"
      ],
      "execution_count": null,
      "outputs": []
    },
    {
      "cell_type": "code",
      "metadata": {
        "id": "36P5qkiek3LD"
      },
      "source": [
        "summary(titanic)"
      ],
      "execution_count": null,
      "outputs": []
    },
    {
      "cell_type": "code",
      "metadata": {
        "id": "_LeYkIDsk7ZR"
      },
      "source": [
        "summary(survived ~ pclass + sex + age + sibsp + parch + fare + embarked,data=titanic, method=\"reverse\")"
      ],
      "execution_count": null,
      "outputs": []
    },
    {
      "cell_type": "code",
      "metadata": {
        "id": "XZrOqTHok9O8"
      },
      "source": [
        "library(Hmisc)\n",
        "describe(titanic)"
      ],
      "execution_count": null,
      "outputs": []
    },
    {
      "cell_type": "code",
      "metadata": {
        "id": "nY3JoFbGlAfi"
      },
      "source": [
        "#install.packages(\"caret\")\n",
        "#install.packages(\"ellipse\")\n",
        "library(caret)\n",
        "library(ellipse)\n",
        "featurePlot(\n",
        "  titanic[,sapply(names(titanic),\n",
        "                  function(x) {is.numeric(titanic[, x])})],\n",
        "  titanic [, c(\"survived\")],\n",
        "            \"ellipse\")"
      ],
      "execution_count": null,
      "outputs": []
    },
    {
      "cell_type": "code",
      "metadata": {
        "id": "GCwYNiCElFV-"
      },
      "source": [
        "mosaicplot(survived ~ pclass + sex,data=titanic, color=TRUE, main=\"pclass and sex\")"
      ],
      "execution_count": null,
      "outputs": []
    },
    {
      "cell_type": "code",
      "metadata": {
        "id": "ew5YCmMilIFK"
      },
      "source": [
        "mosaicplot(survived ~ embarked,data=titanic, color=TRUE, main=\"embarked\")"
      ],
      "execution_count": null,
      "outputs": []
    },
    {
      "cell_type": "markdown",
      "metadata": {
        "id": "2KuH88ePlN0T"
      },
      "source": [
        "지금까지 살펴본 데이터 특성들을 종합해보면,\n",
        "\n",
        "\n",
        "- 성별이 여자이고\n",
        "- pclass(티켓의 등급)가 높을수록\n",
        "- Cherbourg 선착장에서 배를 탔다면\n",
        "\n",
        "- 형제자매, 배우자, 부모, 자녀와 함께 배를 탔다면\n",
        "\n",
        "생존 확률이 더 높았다는 것을 알 수 있다."
      ]
    }
  ]
}