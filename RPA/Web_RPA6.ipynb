{
  "nbformat": 4,
  "nbformat_minor": 0,
  "metadata": {
    "colab": {
      "name": "Web_RPA6.ipynb",
      "provenance": [],
      "authorship_tag": "ABX9TyPi8sUI8bbfQ/bnYe81GwJ+",
      "include_colab_link": true
    },
    "kernelspec": {
      "name": "python3",
      "display_name": "Python 3"
    },
    "language_info": {
      "name": "python"
    }
  },
  "cells": [
    {
      "cell_type": "markdown",
      "metadata": {
        "id": "view-in-github",
        "colab_type": "text"
      },
      "source": [
        "<a href=\"https://colab.research.google.com/github/innosoft21/TensorFlow-Certificate/blob/master/RPA/Web_RPA6.ipynb\" target=\"_parent\"><img src=\"https://colab.research.google.com/assets/colab-badge.svg\" alt=\"Open In Colab\"/></a>"
      ]
    },
    {
      "cell_type": "markdown",
      "metadata": {
        "id": "ijBaqYPaLsmQ"
      },
      "source": [
        "웹 자동화 6. file download, wait"
      ]
    },
    {
      "cell_type": "code",
      "metadata": {
        "id": "h_ra4UKlIyug"
      },
      "source": [
        "import time\n",
        "from selenium import webdriver\n",
        "from selenium.webdriver.chrome.options import Options"
      ],
      "execution_count": null,
      "outputs": []
    },
    {
      "cell_type": "code",
      "metadata": {
        "id": "pzTU0zKvfZoX"
      },
      "source": [
        "chrome_options = Options()\n",
        "chrome_options.add_experimental_option('prefs', {'download.default_directory':r'C:\\Users\\Nadocoding\\Desktop\\PythonWorkspace'})\n",
        "\n",
        "browser = webdriver.Chrome(options=chrome_options)\n",
        "browser.get('https://www.w3schools.com/tags/tryit.asp?filename=tryhtml5_a_download')\n",
        "\n",
        "browser.switch_to.frame('iframeResult')\n",
        "\n",
        "# download 링크 클릭\n",
        "elem = browser.find_element_by_xpath('/html/body/p[2]/a')\n",
        "elem.click()\n",
        "\n",
        "time.sleep(5)\n",
        "browser.quit()"
      ],
      "execution_count": null,
      "outputs": []
    },
    {
      "cell_type": "markdown",
      "metadata": {
        "id": "8EkHPWlRg6l2"
      },
      "source": [
        "wait"
      ]
    },
    {
      "cell_type": "code",
      "metadata": {
        "id": "s5PUxWMTg3yZ"
      },
      "source": [
        "import time\n",
        "from selenium import webdriver\n",
        "\n",
        "from selenium.webdriver.common.by import By\n",
        "from selenium.webdriver.support.ui import WebDriverWait\n",
        "from selenium.webdriver.support import expected_conditions as EC"
      ],
      "execution_count": null,
      "outputs": []
    },
    {
      "cell_type": "code",
      "metadata": {
        "id": "K59eY-Aqg_tW"
      },
      "source": [
        "browser = webdriver.Chrome()\n",
        "browser.maximize_window()\n",
        "browser.get('https://flight.naver.com/flights/')\n",
        "\n",
        "# 가는 날 클릭\n",
        "browser.find_element_by_link_text('가는날 선택').click()\n",
        "browser.find_elements_by_link_text('30')[0].click()\n",
        "# 오는 날\n",
        "browser.find_elements_by_link_text('5')[1].click()\n",
        "\n",
        "# 제주도 클릭\n",
        "browser.find_element_by_xpath('//*[@id=\"recommendationList\"]/ul/li[1]').click()\n",
        "\n",
        "# 항공권 검색 클릭\n",
        "browser.find_element_by_link_text('항공권 검색').click()\n",
        "\n",
        "# time.sleep(10)\n",
        "\n",
        "try:\n",
        "    elem = WebDriverWait(browser, 10).until(EC.presence_of_element_located((By.XPATH, '//*[@id=\"content\"]/div[2]/div/div[4]/ul/li[1]')))\n",
        "    print(elem.text)\n",
        "except:\n",
        "    print(\"실패했어요\")\n",
        "\n",
        "# 첫 번째 결과 출력\n",
        "# elem = browser.find_element_by_xpath('//*[@id=\"content\"]/div[2]/div/div[4]/ul/li[1]')\n",
        "# print(elem.text) # element 내에 있는 text 부분을 출력\n",
        "\n",
        "time.sleep(5)\n",
        "browser.quit()"
      ],
      "execution_count": null,
      "outputs": []
    }
  ]
}